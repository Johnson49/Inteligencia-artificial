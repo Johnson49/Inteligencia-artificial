{
 "cells": [
  {
   "cell_type": "code",
   "execution_count": null,
   "metadata": {},
   "outputs": [],
   "source": [
    "# !pip install pandas\n",
    "# !pip install scikit-learn\n",
    "# !pip install matplotlib\n",
    "# !pip install seaborn"
   ]
  },
  {
   "cell_type": "code",
   "execution_count": 1,
   "metadata": {},
   "outputs": [
    {
     "data": {
      "text/html": [
       "<div>\n",
       "<style scoped>\n",
       "    .dataframe tbody tr th:only-of-type {\n",
       "        vertical-align: middle;\n",
       "    }\n",
       "\n",
       "    .dataframe tbody tr th {\n",
       "        vertical-align: top;\n",
       "    }\n",
       "\n",
       "    .dataframe thead th {\n",
       "        text-align: right;\n",
       "    }\n",
       "</style>\n",
       "<table border=\"1\" class=\"dataframe\">\n",
       "  <thead>\n",
       "    <tr style=\"text-align: right;\">\n",
       "      <th></th>\n",
       "      <th>TV</th>\n",
       "      <th>Radio</th>\n",
       "      <th>Jornal</th>\n",
       "      <th>Lucro</th>\n",
       "    </tr>\n",
       "  </thead>\n",
       "  <tbody>\n",
       "    <tr>\n",
       "      <th>Janeiro</th>\n",
       "      <td>23.1</td>\n",
       "      <td>3.8</td>\n",
       "      <td>69.2</td>\n",
       "      <td>35.2</td>\n",
       "    </tr>\n",
       "    <tr>\n",
       "      <th>Fevereiro</th>\n",
       "      <td>44.5</td>\n",
       "      <td>0.0</td>\n",
       "      <td>5.1</td>\n",
       "      <td>27.7</td>\n",
       "    </tr>\n",
       "    <tr>\n",
       "      <th>Março</th>\n",
       "      <td>170.2</td>\n",
       "      <td>45.9</td>\n",
       "      <td>0.0</td>\n",
       "      <td>45.9</td>\n",
       "    </tr>\n",
       "  </tbody>\n",
       "</table>\n",
       "</div>"
      ],
      "text/plain": [
       "              TV  Radio  Jornal  Lucro\n",
       "Janeiro     23.1    3.8    69.2   35.2\n",
       "Fevereiro   44.5    0.0     5.1   27.7\n",
       "Março      170.2   45.9     0.0   45.9"
      ]
     },
     "metadata": {},
     "output_type": "display_data"
    }
   ],
   "source": [
    "import pandas as pd\n",
    "\n",
    "relatorio = {\n",
    "    'TV': [23.1, 44.5, 170.2],\n",
    "    'Radio': [3.8, 0.0, 45.9],\n",
    "    'Jornal': [69.2, 5.1, 0.0],\n",
    "    'Lucro': [35.2, 27.7, 45.9],\n",
    "}\n",
    "df = pd.DataFrame(relatorio, index=['Janeiro', 'Fevereiro', 'Março'])\n",
    "display(df)"
   ]
  },
  {
   "cell_type": "code",
   "execution_count": null,
   "metadata": {},
   "outputs": [],
   "source": [
    "import seaborn as sns\n",
    "import matplotlib.pyplot as plt\n",
    "\n",
    "sns.heatmap(df.corr(), cmap = 'Wistia', annot= True) \n",
    "plt.show()"
   ]
  },
  {
   "cell_type": "markdown",
   "metadata": {},
   "source": [
    "## Responsável por dividir a base de dados em treino e teste."
   ]
  },
  {
   "cell_type": "code",
   "execution_count": null,
   "metadata": {},
   "outputs": [],
   "source": [
    "from sklearn.model_selection import train_test_split \n",
    "\n",
    "y = df['Lucro'] \n",
    "x = df[['TV', 'Radio', 'Jornal']]\n",
    "\n",
    "x_treino, x_teste, y_treino, y_teste = train_test_split(x, y)"
   ]
  },
  {
   "cell_type": "markdown",
   "metadata": {},
   "source": [
    "## Treinado as IAs"
   ]
  },
  {
   "cell_type": "code",
   "execution_count": null,
   "metadata": {},
   "outputs": [],
   "source": [
    "from sklearn.linear_model import LinearRegression # -> Regressão linear\n",
    "from sklearn.ensemble import RandomForestRegressor # -> RandomForest (arvore de decisão)\n",
    "\n",
    "\n",
    "modelo_regressao_linear = LinearRegression() \n",
    "modelo_arvore_decisao = RandomForestRegressor()\n",
    "\n",
    "\n",
    "modelo_arvore_decisao.fit(x_treino, y_treino) \n",
    "modelo_regressao_linear.fit(x_treino, y_treino)"
   ]
  },
  {
   "cell_type": "markdown",
   "metadata": {},
   "source": [
    "## Realizado os testes."
   ]
  },
  {
   "cell_type": "code",
   "execution_count": null,
   "metadata": {},
   "outputs": [],
   "source": [
    "previsao_regressao_linear = modelo_regressao_linear.predict(x_teste)\n",
    "previsao_arvore_decisao = modelo_arvore_decisao.predict(x_teste)\n",
    "\n",
    "from sklearn import metrics \n",
    "\n",
    "#imprimido as porcentagem de acertos da IA.\n",
    "print(f'Regressão linear: {metrics.r2_score(y_teste, previsao_regressao_linear)}') \n",
    "print(f'Arvore de decisão: {metrics.r2_score(y_teste, previsao_arvore_decisao)}')"
   ]
  }
 ],
 "metadata": {
  "kernelspec": {
   "display_name": "Python 3.10.8 64-bit (microsoft store)",
   "language": "python",
   "name": "python3"
  },
  "language_info": {
   "codemirror_mode": {
    "name": "ipython",
    "version": 3
   },
   "file_extension": ".py",
   "mimetype": "text/x-python",
   "name": "python",
   "nbconvert_exporter": "python",
   "pygments_lexer": "ipython3",
   "version": "3.10.8"
  },
  "orig_nbformat": 4,
  "vscode": {
   "interpreter": {
    "hash": "c7de767232f4bbb74de6e9d199b5fe3dbd59a412207db68c6abca38d2080a710"
   }
  }
 },
 "nbformat": 4,
 "nbformat_minor": 2
}
